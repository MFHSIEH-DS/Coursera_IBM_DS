{
 "cells": [
  {
   "cell_type": "markdown",
   "id": "541618aa-1c5c-4539-8b8a-edd83a482165",
   "metadata": {},
   "source": [
    "# Data Science Tools and Ecosystem"
   ]
  },
  {
   "cell_type": "markdown",
   "id": "930661c6-6fae-4605-8396-be2d0fa42a60",
   "metadata": {},
   "source": [
    "## Author\n",
    "Ming-Feng Hsieh"
   ]
  },
  {
   "cell_type": "markdown",
   "id": "9d52d38d-fcc6-4fda-a347-2dcca7c8d330",
   "metadata": {},
   "source": [
    "In this notebook, Data Science Tools and Ecosystem are summarized."
   ]
  },
  {
   "cell_type": "markdown",
   "id": "34752655-4ec7-4f96-be21-c73176cbb609",
   "metadata": {},
   "source": [
    "**objectives:**\n",
    "* List popular languages for Data Science\n",
    "* commonly used libraries by Data Scientiests\n",
    "* a practice code\n",
    "* an example of converting minutes into hours"
   ]
  },
  {
   "cell_type": "markdown",
   "id": "97fab1e6-bda4-4115-8eec-48a665fba806",
   "metadata": {},
   "source": [
    "Some of the popular languages that Data Scientists use are:\n",
    "1. python\n",
    "2. R\n",
    "3. SQL"
   ]
  },
  {
   "cell_type": "markdown",
   "id": "43bf55e6-c375-4415-a14e-8f3e149eab60",
   "metadata": {},
   "source": [
    "Some of the commonly used libraries used by Data Scientists include:\n",
    "1. numpy\n",
    "2. tensorflow\n",
    "3. pytorch"
   ]
  },
  {
   "cell_type": "markdown",
   "id": "e107914c-e915-49c3-a936-0bdf95685a79",
   "metadata": {},
   "source": [
    "# (Data Science Tools)\n",
    "| Column 1  | |\r\n",
    " jupyter    | IBMwatson    |\r",
    "RStudio  3   |  "
   ]
  },
  {
   "cell_type": "markdown",
   "id": "a3bdbd4a-4710-4ad0-8680-e56959d58317",
   "metadata": {},
   "source": [
    "### (Below are a few examples of evaluating arithmetic expressions in Python)"
   ]
  },
  {
   "cell_type": "code",
   "execution_count": 2,
   "id": "e8934e4c-2bbb-4595-86e1-8d2e933f8b74",
   "metadata": {},
   "outputs": [
    {
     "data": {
      "text/plain": [
       "17"
      ]
     },
     "execution_count": 2,
     "metadata": {},
     "output_type": "execute_result"
    }
   ],
   "source": [
    "#This a simple arithmetic expression to mutiply then add integers\n",
    "(3*4) + 5 "
   ]
  },
  {
   "cell_type": "code",
   "execution_count": 10,
   "id": "0408a26c-389d-4927-9442-ea34d597ec57",
   "metadata": {},
   "outputs": [
    {
     "name": "stdout",
     "output_type": "stream",
     "text": [
      "3.3333333333333335\n"
     ]
    }
   ],
   "source": [
    "minutes = 200\n",
    "hours = minutes / 60\n",
    "print(hours)\n",
    "#This will convert 200 minutes to hours by diving by 60"
   ]
  }
 ],
 "metadata": {
  "kernelspec": {
   "display_name": "Python 3 (ipykernel)",
   "language": "python",
   "name": "python3"
  },
  "language_info": {
   "codemirror_mode": {
    "name": "ipython",
    "version": 3
   },
   "file_extension": ".py",
   "mimetype": "text/x-python",
   "name": "python",
   "nbconvert_exporter": "python",
   "pygments_lexer": "ipython3",
   "version": "3.11.7"
  }
 },
 "nbformat": 4,
 "nbformat_minor": 5
}
